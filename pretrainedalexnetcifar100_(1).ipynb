{
  "nbformat": 4,
  "nbformat_minor": 0,
  "metadata": {
    "kernelspec": {
      "name": "python3",
      "display_name": "Python 3"
    },
    "language_info": {
      "pygments_lexer": "ipython3",
      "nbconvert_exporter": "python",
      "version": "3.6.4",
      "file_extension": ".py",
      "codemirror_mode": {
        "name": "ipython",
        "version": 3
      },
      "name": "python",
      "mimetype": "text/x-python"
    },
    "colab": {
      "name": "pretrainedalexnetcifar100 (1).ipynb",
      "provenance": []
    },
    "accelerator": "GPU"
  },
  "cells": [
    {
      "cell_type": "code",
      "metadata": {
        "_uuid": "3f8bce2f-db46-4c9b-b33a-5872ee43e09d",
        "_cell_guid": "d0f74cb2-a2eb-46e6-ad85-e59ee48867a2",
        "trusted": true,
        "id": "-RPRCmKFQeTx",
        "colab_type": "code",
        "colab": {}
      },
      "source": [
        "import os\n",
        "from PIL import Image\n",
        "import numpy as np\n",
        "from IPython.display import display\n",
        "import h5py \n",
        "import cv2"
      ],
      "execution_count": 0,
      "outputs": []
    },
    {
      "cell_type": "code",
      "metadata": {
        "_uuid": "41caa140-0278-4b3f-aaa2-1442d096e4ba",
        "_cell_guid": "03568b1f-8ae8-4cdb-afd6-d6e29bfa37b8",
        "trusted": true,
        "id": "1ny3suOKQeT5",
        "colab_type": "code",
        "outputId": "6565eeef-348c-4b78-996e-724eb1e7d51a",
        "colab": {
          "base_uri": "https://localhost:8080/",
          "height": 79
        }
      },
      "source": [
        "from __future__ import print_function\n",
        "from keras.datasets import mnist\n",
        "from keras.models import Sequential\n",
        "from keras.layers import Dense, Dropout, Flatten , BatchNormalization\n",
        "from keras.layers import Conv2D, MaxPooling2D\n",
        "from keras import backend as K"
      ],
      "execution_count": 0,
      "outputs": [
        {
          "output_type": "stream",
          "text": [
            "Using TensorFlow backend.\n"
          ],
          "name": "stderr"
        },
        {
          "output_type": "display_data",
          "data": {
            "text/html": [
              "<p style=\"color: red;\">\n",
              "The default version of TensorFlow in Colab will soon switch to TensorFlow 2.x.<br>\n",
              "We recommend you <a href=\"https://www.tensorflow.org/guide/migrate\" target=\"_blank\">upgrade</a> now \n",
              "or ensure your notebook will continue to use TensorFlow 1.x via the <code>%tensorflow_version 1.x</code> magic:\n",
              "<a href=\"https://colab.research.google.com/notebooks/tensorflow_version.ipynb\" target=\"_blank\">more info</a>.</p>\n"
            ],
            "text/plain": [
              "<IPython.core.display.HTML object>"
            ]
          },
          "metadata": {
            "tags": []
          }
        }
      ]
    },
    {
      "cell_type": "code",
      "metadata": {
        "_uuid": "450b7e0b-7a08-4eea-a63a-37f104762ddf",
        "_cell_guid": "209cb17e-fcd3-430c-9d3d-a6b666c14340",
        "trusted": true,
        "id": "s0EGggH9QeT_",
        "colab_type": "code",
        "colab": {}
      },
      "source": [
        "# parameters for data\n",
        "height = 224\n",
        "width = 224\n",
        "channels = 3\n",
        "input_shape = (height, width, channels)\n",
        "n_classes = 100\n",
        "# Parameters for training\n",
        "epochs = 15\n",
        "batch_size = 32"
      ],
      "execution_count": 0,
      "outputs": []
    },
    {
      "cell_type": "code",
      "metadata": {
        "_uuid": "9d8ef584-dff7-434c-980b-ca7109e57b84",
        "_cell_guid": "8afafc86-2ed3-464e-8457-33035f095af3",
        "trusted": true,
        "id": "KmicrOsAQeUD",
        "colab_type": "code",
        "colab": {}
      },
      "source": [
        "from keras.datasets import cifar100\n",
        "(X, y), (X_test, y_test) = cifar100.load_data()"
      ],
      "execution_count": 0,
      "outputs": []
    },
    {
      "cell_type": "code",
      "metadata": {
        "_uuid": "9a81ae47-6944-4b17-8191-8421cead8ed4",
        "_cell_guid": "2ab9f6da-c2a4-445b-98fe-5ff5bb70bc3a",
        "trusted": true,
        "id": "lgmFcrIQQeUI",
        "colab_type": "code",
        "colab": {}
      },
      "source": [
        "from __future__ import print_function\n",
        "from keras.datasets import mnist\n",
        "from keras.models import Sequential\n",
        "from keras.layers import Dense, Dropout, Flatten , BatchNormalization\n",
        "from keras.layers import Conv2D, MaxPooling2D,MaxPooling3D\n",
        "from keras import backend as K"
      ],
      "execution_count": 0,
      "outputs": []
    },
    {
      "cell_type": "code",
      "metadata": {
        "_uuid": "16f3ac33-85dd-4550-8a41-366769132d4e",
        "_cell_guid": "38a8d06a-f372-441d-8ce7-33b255ae57e8",
        "trusted": true,
        "id": "7cmuebtkQeUL",
        "colab_type": "code",
        "colab": {}
      },
      "source": [
        "import os\n",
        "import cv2\n",
        "import numpy as np\n",
        "import matplotlib.pyplot as plt\n",
        "\n",
        "import keras\n",
        "import keras.backend as K\n",
        "from keras.datasets import cifar100\n",
        "from keras.models import Sequential\n",
        "from keras.layers import Dense, Dropout, BatchNormalization, Flatten, GlobalMaxPooling2D, GlobalAveragePooling2D\n",
        "from keras.optimizers import Adam, SGD\n",
        "from keras.callbacks import EarlyStopping, ReduceLROnPlateau\n",
        "from keras.preprocessing.image import ImageDataGenerator\n",
        "from keras.utils import to_categorical\n",
        "\n",
        "import albumentations as albu\n",
        "from sklearn.model_selection import train_test_split, StratifiedShuffleSplit\n",
        "from sklearn.metrics import accuracy_score"
      ],
      "execution_count": 0,
      "outputs": []
    },
    {
      "cell_type": "code",
      "metadata": {
        "_uuid": "a7cc0379-07e0-4ed0-b1a6-38a2bbecc61b",
        "_cell_guid": "a5048609-071e-43a3-baf3-24d08f329971",
        "trusted": true,
        "id": "vhljshiuQeUQ",
        "colab_type": "code",
        "outputId": "c22e5aba-59c9-4c3d-8104-f516f73dc32d",
        "colab": {
          "base_uri": "https://localhost:8080/",
          "height": 50
        }
      },
      "source": [
        "# Spliting the training data into a training data and a validation data.\n",
        "st = StratifiedShuffleSplit(n_splits = 2, test_size = 0.2, random_state = 1)\n",
        "for train_index, val_index in st.split(X, y):\n",
        "    X_train, X_val, y_train, y_val = X[train_index], X[val_index], y[train_index], y[val_index]\n",
        "    \n",
        "print(\"The number of training data : \", X_train.shape[0])\n",
        "print(\"The number of validation data : \", X_val.shape[0])\n",
        "\n",
        "del X, y"
      ],
      "execution_count": 0,
      "outputs": [
        {
          "output_type": "stream",
          "text": [
            "The number of training data :  40000\n",
            "The number of validation data :  10000\n"
          ],
          "name": "stdout"
        }
      ]
    },
    {
      "cell_type": "code",
      "metadata": {
        "_uuid": "a77150a5-4e81-4714-bff4-a88c204211f7",
        "_cell_guid": "8e352cea-5d23-4252-b666-29de3f462902",
        "trusted": true,
        "id": "S3ESX0NTQeUU",
        "colab_type": "code",
        "colab": {}
      },
      "source": [
        "def np_resize(img, shape):\n",
        "    return cv2.resize(img, (shape[1], shape[0]), interpolation = cv2.INTER_CUBIC)"
      ],
      "execution_count": 0,
      "outputs": []
    },
    {
      "cell_type": "code",
      "metadata": {
        "_uuid": "171d980a-d709-4260-b030-20f9148fbe08",
        "_cell_guid": "f8091a18-cf0e-45f5-85a3-3e9c39f9a75e",
        "trusted": true,
        "id": "qqqWgGvXQeUX",
        "colab_type": "code",
        "colab": {}
      },
      "source": [
        "class DataGenerator(keras.utils.Sequence):\n",
        "    'Generates data for keras'\n",
        "    def __init__(self, images , labels = None, mode = 'fit', batch_size = batch_size,\n",
        "                 dim = (height, width), channels = channels, n_classes = n_classes,\n",
        "                 shuffle = True, augment = False):\n",
        "        self.images = images\n",
        "        self.labels = labels\n",
        "        self.mode = mode\n",
        "        self.batch_size = batch_size\n",
        "        self.dim = dim\n",
        "        self.channels = channels\n",
        "        self.n_classes = n_classes\n",
        "        self.shuffle = shuffle\n",
        "        self.augment = augment\n",
        "        \n",
        "        self.on_epoch_end()\n",
        "        \n",
        "    def on_epoch_end(self):\n",
        "        'Updates indexes after each epoch'\n",
        "        self.indexes = np.arange(self.images.shape[0])\n",
        "        if self.shuffle == True:\n",
        "            np.random.shuffle(self.indexes)\n",
        "            \n",
        "    def __len__(self):\n",
        "        'Denotes the number of batches per epoch'\n",
        "        return int(np.floor(len(self.images) / self.batch_size))\n",
        "        \n",
        "    def __getitem__(self, index):\n",
        "        'Generate one batch of data'\n",
        "        batch_indexes = self.indexes[index*self.batch_size:(index+1)*self.batch_size]\n",
        "\n",
        "        # =========================================================== #\n",
        "        # Generate mini-batch of X\n",
        "        # =========================================================== #\n",
        "        X = np.empty((self.batch_size, *self.dim, self.channels))\n",
        "        for i, ID in enumerate(batch_indexes):\n",
        "            # Generate a preprocessed image\n",
        "            img = self.images[ID]\n",
        "            img = img.astype(np.float32) / 255.\n",
        "            img = np_resize(img, self.dim)\n",
        "            X[i] = img\n",
        "            \n",
        "        \n",
        "        # =========================================================== #\n",
        "        # Generate mini-batch of y\n",
        "        # =========================================================== #\n",
        "        if self.mode == 'fit':\n",
        "            y = self.labels[batch_indexes]\n",
        "            y = to_categorical(y, n_classes)\n",
        "            '''\n",
        "            y = np.zeros((self.batch_size, self.n_classes), dtype = np.uint8)\n",
        "            for i, ID in enumerate(batch_indexes):\n",
        "                # one hot encoded label\n",
        "                y[i, self.labels[ID]] = 1\n",
        "            '''\n",
        "            # Augmentation should only be implemented in the training part.\n",
        "            if self.augment == True:\n",
        "                X = self.__augment_batch(X)                \n",
        "            \n",
        "            return X,y\n",
        "        \n",
        "        elif self.mode == 'predict':\n",
        "            return X       \n",
        "        \n",
        "        else:\n",
        "            raise AttributeError('The mode parameters should be set to \"fit\" or \"predict\"')\n",
        "            \n",
        "    def __random_transform(self, img):\n",
        "        composition = albu.Compose([albu.HorizontalFlip(p = 0.5),\n",
        "                                    albu.VerticalFlip(p = 0.5),\n",
        "                                    albu.GridDistortion(p = 0.2),\n",
        "                                    albu.ElasticTransform(p = 0.2)])\n",
        "        \n",
        "        return composition(image = img)['image']\n",
        "        \n",
        "    \n",
        "    def __augment_batch(self, img_batch):\n",
        "        for i in range(img_batch.shape[0]):\n",
        "            img_batch[i] = self.__random_transform(img_batch[i])\n",
        "            \n",
        "        return img_batch"
      ],
      "execution_count": 0,
      "outputs": []
    },
    {
      "cell_type": "code",
      "metadata": {
        "_uuid": "21b54065-5931-4330-8452-490f0fd23231",
        "_cell_guid": "1401320e-919d-4002-95c2-ef57d05331a2",
        "trusted": true,
        "id": "9HxZh_aFQeUa",
        "colab_type": "code",
        "colab": {}
      },
      "source": [
        "train_generator = DataGenerator(X_train, y_train, augment = True)\n",
        "valid_generator = DataGenerator(X_val, y_val, augment = False)"
      ],
      "execution_count": 0,
      "outputs": []
    },
    {
      "cell_type": "code",
      "metadata": {
        "id": "9OmOHthKSYNH",
        "colab_type": "code",
        "outputId": "abda0fc5-c7e6-4f1f-b13b-a26163e721be",
        "colab": {
          "base_uri": "https://localhost:8080/",
          "height": 34
        }
      },
      "source": [
        "import os\n",
        "print(os.getcwd())"
      ],
      "execution_count": 0,
      "outputs": [
        {
          "output_type": "stream",
          "text": [
            "/content/drive/My Drive\n"
          ],
          "name": "stdout"
        }
      ]
    },
    {
      "cell_type": "code",
      "metadata": {
        "trusted": true,
        "id": "yS1iyvnJQeUh",
        "colab_type": "code",
        "colab": {}
      },
      "source": [
        "import numpy as np\n",
        "weights_dic = np.load('/content/bvlc_alexnet.npy', encoding='bytes',allow_pickle=True).item()"
      ],
      "execution_count": 0,
      "outputs": []
    },
    {
      "cell_type": "code",
      "metadata": {
        "_uuid": "3de43b89-b703-456d-b190-ce40b1235472",
        "_cell_guid": "b17ea0ea-b8f8-42c8-a55e-124b86c8ba34",
        "trusted": true,
        "id": "wr4A6aexQeUo",
        "colab_type": "code",
        "outputId": "12d2dee7-37ea-43bd-9137-c5d037ef0908",
        "colab": {
          "base_uri": "https://localhost:8080/",
          "height": 558
        }
      },
      "source": [
        "model = Sequential()\n",
        "# 1st layer..........\n",
        "model.add(Conv2D(96, kernel_size = (11, 11), strides = (4,4), activation='relu', padding = 'valid' , data_format='channels_last', input_shape=(227, 227, 3),name = \"first\"))\n",
        "model.add(MaxPooling2D(pool_size=(3,3) , strides = (2,2) , padding = 'valid' )) \n",
        "model.add(BatchNormalization())\n",
        "\n",
        "# 2nd layer................\n",
        "model.add(Conv2D(256, kernel_size=(5,5), activation='relu', strides=(1,1), padding = 'valid', name = \"second\"))\n",
        "model.add(MaxPooling2D(pool_size=(3,3), strides=(2,2), padding='valid'))\n",
        "model.add(BatchNormalization())\n",
        "\n",
        "#3rd layer.................\n",
        "model.add(Conv2D(384, kernel_size=(3,3), activation='relu', strides=(1,1), padding='valid', name = \"third\"))\n",
        "model.add(BatchNormalization())\n",
        "\n",
        "#4th layer.................\n",
        "model.add(Conv2D(384, kernel_size=(3,3), activation='relu', strides=(1,1), padding='valid', name = \"fourth\"))\n",
        "model.add(BatchNormalization())\n",
        "\n",
        "#5th layer.................\n",
        "model.add(Conv2D(256, kernel_size=(3,3), strides=(1,1), activation = 'relu', padding='valid' , name = \"fifth\"))\n",
        "model.add(MaxPooling2D(pool_size=(3,3), strides=(2,2), padding='valid'))\n",
        "model.add(BatchNormalization())\n",
        "\n",
        "model.add(Dropout(0.2))\n",
        "\n",
        "model.add(Flatten())\n",
        "\n",
        "# Fully Connected Layer 1\n",
        "model.add(Dense(4096, activation='relu'))\n",
        "model.add(Dropout(0.4))\n",
        "\n",
        "# Fully Connected Layer 2\n",
        "model.add(Dense(4096, activation='relu'))\n",
        "model.add(Dropout(0.4))\n",
        "model.add(Dense(n_classes, activation = 'softmax')) #As number of nodes in last layer in softmax is number of classes, where each node is probability of classes\n",
        "\n",
        "model.compile(loss=keras.losses.categorical_crossentropy,\n",
        "          optimizer=keras.optimizers.Adadelta(),\n",
        "          metrics=['accuracy'])"
      ],
      "execution_count": 0,
      "outputs": [
        {
          "output_type": "stream",
          "text": [
            "WARNING:tensorflow:From /usr/local/lib/python3.6/dist-packages/keras/backend/tensorflow_backend.py:66: The name tf.get_default_graph is deprecated. Please use tf.compat.v1.get_default_graph instead.\n",
            "\n",
            "WARNING:tensorflow:From /usr/local/lib/python3.6/dist-packages/keras/backend/tensorflow_backend.py:541: The name tf.placeholder is deprecated. Please use tf.compat.v1.placeholder instead.\n",
            "\n",
            "WARNING:tensorflow:From /usr/local/lib/python3.6/dist-packages/keras/backend/tensorflow_backend.py:4432: The name tf.random_uniform is deprecated. Please use tf.random.uniform instead.\n",
            "\n",
            "WARNING:tensorflow:From /usr/local/lib/python3.6/dist-packages/keras/backend/tensorflow_backend.py:4267: The name tf.nn.max_pool is deprecated. Please use tf.nn.max_pool2d instead.\n",
            "\n",
            "WARNING:tensorflow:From /usr/local/lib/python3.6/dist-packages/keras/backend/tensorflow_backend.py:190: The name tf.get_default_session is deprecated. Please use tf.compat.v1.get_default_session instead.\n",
            "\n",
            "WARNING:tensorflow:From /usr/local/lib/python3.6/dist-packages/keras/backend/tensorflow_backend.py:197: The name tf.ConfigProto is deprecated. Please use tf.compat.v1.ConfigProto instead.\n",
            "\n",
            "WARNING:tensorflow:From /usr/local/lib/python3.6/dist-packages/keras/backend/tensorflow_backend.py:203: The name tf.Session is deprecated. Please use tf.compat.v1.Session instead.\n",
            "\n",
            "WARNING:tensorflow:From /usr/local/lib/python3.6/dist-packages/keras/backend/tensorflow_backend.py:207: The name tf.global_variables is deprecated. Please use tf.compat.v1.global_variables instead.\n",
            "\n",
            "WARNING:tensorflow:From /usr/local/lib/python3.6/dist-packages/keras/backend/tensorflow_backend.py:216: The name tf.is_variable_initialized is deprecated. Please use tf.compat.v1.is_variable_initialized instead.\n",
            "\n",
            "WARNING:tensorflow:From /usr/local/lib/python3.6/dist-packages/keras/backend/tensorflow_backend.py:223: The name tf.variables_initializer is deprecated. Please use tf.compat.v1.variables_initializer instead.\n",
            "\n",
            "WARNING:tensorflow:From /usr/local/lib/python3.6/dist-packages/keras/backend/tensorflow_backend.py:2041: The name tf.nn.fused_batch_norm is deprecated. Please use tf.compat.v1.nn.fused_batch_norm instead.\n",
            "\n",
            "WARNING:tensorflow:From /usr/local/lib/python3.6/dist-packages/keras/backend/tensorflow_backend.py:148: The name tf.placeholder_with_default is deprecated. Please use tf.compat.v1.placeholder_with_default instead.\n",
            "\n",
            "WARNING:tensorflow:From /usr/local/lib/python3.6/dist-packages/keras/backend/tensorflow_backend.py:3733: calling dropout (from tensorflow.python.ops.nn_ops) with keep_prob is deprecated and will be removed in a future version.\n",
            "Instructions for updating:\n",
            "Please use `rate` instead of `keep_prob`. Rate should be set to `rate = 1 - keep_prob`.\n",
            "WARNING:tensorflow:From /usr/local/lib/python3.6/dist-packages/keras/optimizers.py:793: The name tf.train.Optimizer is deprecated. Please use tf.compat.v1.train.Optimizer instead.\n",
            "\n",
            "WARNING:tensorflow:From /usr/local/lib/python3.6/dist-packages/keras/backend/tensorflow_backend.py:3576: The name tf.log is deprecated. Please use tf.math.log instead.\n",
            "\n"
          ],
          "name": "stdout"
        }
      ]
    },
    {
      "cell_type": "code",
      "metadata": {
        "trusted": true,
        "id": "FaMhVOM-QeUr",
        "colab_type": "code",
        "outputId": "4f848360-e0f4-4b70-f12a-9109b786f8d3",
        "colab": {
          "base_uri": "https://localhost:8080/",
          "height": 34
        }
      },
      "source": [
        "print(model.get_layer(\"second\").get_weights()[0].shape)"
      ],
      "execution_count": 0,
      "outputs": [
        {
          "output_type": "stream",
          "text": [
            "(5, 5, 96, 256)\n"
          ],
          "name": "stdout"
        }
      ]
    },
    {
      "cell_type": "code",
      "metadata": {
        "trusted": true,
        "id": "xl4vEm4DQeUv",
        "colab_type": "code",
        "colab": {}
      },
      "source": [
        "model.get_layer(\"first\").set_weights([weights_dic[\"conv1\"][0], weights_dic[\"conv1\"][1]])\n",
        "# model.get_layer(\"second\").set_weights([weights_dic[\"conv2\"][0], weights_dic[\"conv2\"][1]])\n",
        "# model.get_layer(\"third\").set_weights([weights_dic[\"conv3\"][0], weights_dic[\"conv3\"][1]])\n",
        "# model.get_layer(\"fourth\").set_weights([weights_dic[\"conv4\"][0], weights_dic[\"conv4\"][1]])\n",
        "# model.get_layer(\"fifth\").set_weights([weights_dic[\"conv5\"][0], weights_dic[\"conv5\"][1]])"
      ],
      "execution_count": 0,
      "outputs": []
    },
    {
      "cell_type": "code",
      "metadata": {
        "trusted": true,
        "id": "Mw3AcjE7QeUy",
        "colab_type": "code",
        "colab": {}
      },
      "source": [
        "from keras.models import load_model\n",
        "model = load_model(\"model.h5\")"
      ],
      "execution_count": 0,
      "outputs": []
    },
    {
      "cell_type": "code",
      "metadata": {
        "id": "L5dmQQMSBZJf",
        "colab_type": "code",
        "colab": {}
      },
      "source": [
        "from time import time\n",
        "tensorboard = keras.callbacks.TensorBoard(log_dir=\"pretrainedLogs/{}\".format(time()), histogram_freq=0, write_graph=True, write_images=True)"
      ],
      "execution_count": 0,
      "outputs": []
    },
    {
      "cell_type": "code",
      "metadata": {
        "_uuid": "709a75f9-b7a1-4ff6-91e4-54fd5b7b3c1c",
        "_cell_guid": "9cdade5d-1644-499f-8a4f-0c61ba4c49d5",
        "trusted": true,
        "id": "L5yBrjfhQeU1",
        "colab_type": "code",
        "outputId": "0db9db2f-081f-406c-e6ce-08a3feb8a8e0",
        "colab": {
          "base_uri": "https://localhost:8080/",
          "height": 658
        }
      },
      "source": [
        "model.fit_generator(train_generator,validation_data = valid_generator, \n",
        "                           epochs = epochs, verbose = 1,callbacks=[tensorboard])\n"
      ],
      "execution_count": 0,
      "outputs": [
        {
          "output_type": "stream",
          "text": [
            "WARNING:tensorflow:From /usr/local/lib/python3.6/dist-packages/keras/callbacks.py:1122: The name tf.summary.merge_all is deprecated. Please use tf.compat.v1.summary.merge_all instead.\n",
            "\n",
            "WARNING:tensorflow:From /usr/local/lib/python3.6/dist-packages/keras/callbacks.py:1125: The name tf.summary.FileWriter is deprecated. Please use tf.compat.v1.summary.FileWriter instead.\n",
            "\n",
            "Epoch 1/15\n",
            "1250/1250 [==============================] - 518s 415ms/step - loss: 2.2089 - acc: 0.4402 - val_loss: 2.1739 - val_acc: 0.4475\n",
            "WARNING:tensorflow:From /usr/local/lib/python3.6/dist-packages/keras/callbacks.py:1265: The name tf.Summary is deprecated. Please use tf.compat.v1.Summary instead.\n",
            "\n",
            "Epoch 2/15\n",
            "1250/1250 [==============================] - 530s 424ms/step - loss: 2.1919 - acc: 0.4435 - val_loss: 2.1260 - val_acc: 0.4551\n",
            "Epoch 3/15\n",
            "1250/1250 [==============================] - 526s 421ms/step - loss: 2.1713 - acc: 0.4470 - val_loss: 2.2007 - val_acc: 0.4415\n",
            "Epoch 4/15\n",
            "1250/1250 [==============================] - 517s 413ms/step - loss: 2.1813 - acc: 0.4490 - val_loss: 2.0748 - val_acc: 0.4668\n",
            "Epoch 5/15\n",
            "1250/1250 [==============================] - 522s 418ms/step - loss: 2.1628 - acc: 0.4531 - val_loss: 2.0896 - val_acc: 0.4695\n",
            "Epoch 6/15\n",
            "1250/1250 [==============================] - 523s 418ms/step - loss: 2.1468 - acc: 0.4583 - val_loss: 2.0858 - val_acc: 0.4724\n",
            "Epoch 7/15\n",
            "1250/1250 [==============================] - 531s 424ms/step - loss: 2.1431 - acc: 0.4587 - val_loss: 2.1771 - val_acc: 0.4551\n",
            "Epoch 8/15\n",
            "1250/1250 [==============================] - 525s 420ms/step - loss: 2.1349 - acc: 0.4598 - val_loss: 2.1148 - val_acc: 0.4656\n",
            "Epoch 9/15\n",
            "1250/1250 [==============================] - 533s 426ms/step - loss: 2.1238 - acc: 0.4653 - val_loss: 2.0990 - val_acc: 0.4726\n",
            "Epoch 10/15\n",
            "1250/1250 [==============================] - 537s 429ms/step - loss: 2.1203 - acc: 0.4692 - val_loss: 2.1595 - val_acc: 0.4665\n",
            "Epoch 11/15\n",
            "1250/1250 [==============================] - 519s 416ms/step - loss: 2.1105 - acc: 0.4668 - val_loss: 2.1036 - val_acc: 0.4761\n",
            "Epoch 12/15\n",
            "1250/1250 [==============================] - 516s 413ms/step - loss: 2.1064 - acc: 0.4686 - val_loss: 2.1235 - val_acc: 0.4658\n",
            "Epoch 13/15\n",
            "1250/1250 [==============================] - 510s 408ms/step - loss: 2.0944 - acc: 0.4698 - val_loss: 2.2238 - val_acc: 0.4678\n",
            "Epoch 14/15\n",
            "1250/1250 [==============================] - 497s 398ms/step - loss: 2.0888 - acc: 0.4737 - val_loss: 2.0515 - val_acc: 0.4812\n",
            "Epoch 15/15\n",
            "1250/1250 [==============================] - 499s 399ms/step - loss: 2.0808 - acc: 0.4754 - val_loss: 2.0309 - val_acc: 0.4868\n"
          ],
          "name": "stdout"
        },
        {
          "output_type": "execute_result",
          "data": {
            "text/plain": [
              "<keras.callbacks.History at 0x7fa87d2de630>"
            ]
          },
          "metadata": {
            "tags": []
          },
          "execution_count": 35
        }
      ]
    },
    {
      "cell_type": "code",
      "metadata": {
        "id": "GbonoeONgYep",
        "colab_type": "code",
        "colab": {}
      },
      "source": [
        "model.save(\"pretrainedModel1.h5\")"
      ],
      "execution_count": 0,
      "outputs": []
    },
    {
      "cell_type": "code",
      "metadata": {
        "_uuid": "1810ac53-c107-4f86-84e6-b22c9ebfa353",
        "_cell_guid": "265ac183-6e97-41ce-86d3-db2f19881383",
        "trusted": true,
        "id": "LR_u_WhkQeU4",
        "colab_type": "code",
        "outputId": "55727400-be29-48b0-e002-99f20d5e2f41",
        "colab": {
          "base_uri": "https://localhost:8080/",
          "height": 34
        }
      },
      "source": [
        "# Make sure to set shuffle be False.\n",
        "test_generator = DataGenerator(X_test, mode = 'predict', augment = False, shuffle = False)\n",
        "y_pred = model.predict_generator(test_generator,verbose = 1)\n",
        "y_pred = np.argmax(y_pred, axis = 1)"
      ],
      "execution_count": 0,
      "outputs": [
        {
          "output_type": "stream",
          "text": [
            "312/312 [==============================] - 7s 22ms/step\n"
          ],
          "name": "stdout"
        }
      ]
    },
    {
      "cell_type": "code",
      "metadata": {
        "id": "uDwkDX6oByfR",
        "colab_type": "code",
        "outputId": "7e2446e9-9742-466d-8274-3201213d6e26",
        "colab": {
          "base_uri": "https://localhost:8080/",
          "height": 151
        }
      },
      "source": [
        "print(y_pred)\n",
        "y_test = y_test[0:9984]\n",
        "print(y_test)"
      ],
      "execution_count": 0,
      "outputs": [
        {
          "output_type": "stream",
          "text": [
            "[49  4 55 ... 59 21 42]\n",
            "[[49]\n",
            " [33]\n",
            " [72]\n",
            " ...\n",
            " [52]\n",
            " [74]\n",
            " [29]]\n"
          ],
          "name": "stdout"
        }
      ]
    },
    {
      "cell_type": "code",
      "metadata": {
        "id": "IznUjvvshtZb",
        "colab_type": "code",
        "outputId": "5a1f9b8e-89c9-4b2a-b97c-8972b1dbe034",
        "colab": {
          "base_uri": "https://localhost:8080/",
          "height": 34
        }
      },
      "source": [
        "print(\"Testing Accuracy: \",accuracy_score(y_test, y_pred) * 100, \"%\")"
      ],
      "execution_count": 0,
      "outputs": [
        {
          "output_type": "stream",
          "text": [
            "Testing Accuracy:  49.05849358974359 %\n"
          ],
          "name": "stdout"
        }
      ]
    }
  ]
}